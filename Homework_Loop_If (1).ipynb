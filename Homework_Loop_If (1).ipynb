{
 "cells": [
  {
   "cell_type": "markdown",
   "id": "e0d2219e-a3b4-4a8c-8032-fbfe807dcbc7",
   "metadata": {},
   "source": [
    "# Homework (loop, if)  \n",
    "\n"
   ]
  },
  {
   "cell_type": "markdown",
   "id": "ea5e817e-4336-4eec-b20e-a4ee4276b0a7",
   "metadata": {},
   "source": [
    "## Exercise 0: \n",
    "\n",
    "Save all the element of the list that has exactly 4 letters in it in a new variable (list) called `true_friends` ! \n",
    "\n",
    "__Example__ \n",
    "```\n",
    "list_friend = [\"Ryan\", \"Mark\", \"Stefan\", \"Jeff\"] \n",
    "\n",
    "# The output should be \n",
    "list_output = [\"Ryan\", \"Mark\", \"Jeff\"] \n",
    "```"
   ]
  },
  {
   "cell_type": "code",
   "execution_count": 3,
   "id": "1b85ff31-f143-45ea-a94a-dd7606927a85",
   "metadata": {},
   "outputs": [
    {
     "name": "stdout",
     "output_type": "stream",
     "text": [
      "['Ryan', 'Mark', 'Jeff']\n"
     ]
    }
   ],
   "source": [
    "# your code here \n",
    "list_friend = [\"Ryan\", \"Mark\", \"Stefan\", \"Jeff\"]\n",
    "\n",
    "list_output = []\n",
    "\n",
    "for name in list_friend:\n",
    "    if len(name) == 4:\n",
    "        list_output.append(name)\n",
    "\n",
    "print(list_output)\n",
    "    \n"
   ]
  },
  {
   "cell_type": "markdown",
   "id": "fd713a0c",
   "metadata": {},
   "source": [
    "# Exercise 1: \n",
    "\n",
    "Write a program that takes a string and save the result into a new string with all vowels removed.\n",
    "- For our use case, 'y' is not considerd as a vowel.\n",
    "\n",
    "__Example__\n",
    "```\n",
    "\"This website is for losers LOL!\" \n",
    "should become \n",
    "\"Ths wbst s fr lsrs LL!\".\n",
    "```"
   ]
  },
  {
   "cell_type": "code",
   "execution_count": 26,
   "id": "2863315f-c2a9-4120-a060-79a6c351622a",
   "metadata": {},
   "outputs": [
    {
     "name": "stdout",
     "output_type": "stream",
     "text": [
      "Ths wbst s fr lsrs LL!\n"
     ]
    }
   ],
   "source": [
    "# your code here \n",
    "string_ = \"This website is for losers LOL!\"\n",
    "vowels = ['a','e','i','o','u']\n",
    "\n",
    "ss = string_.split(\" \")\n",
    "new_word_list = []\n",
    "for word in ss:\n",
    "    for char in word:\n",
    "        if char.lower() in vowels:\n",
    "            word = word.replace(char, '')\n",
    "    new_word_list.append(word)\n",
    "        \n",
    "print(' '.join(map(str, new_word_list)))\n"
   ]
  },
  {
   "cell_type": "markdown",
   "id": "09767259-2f8d-4ca3-8899-15745ee0bffa",
   "metadata": {},
   "source": [
    "## Exercise 2 \n",
    "\n",
    "From an Integer list, create a new list by adding each consecutive pair of the list.\n",
    "\n",
    "Examples: \n",
    "\n",
    "[1, 1, 1, 1]  -->  [2, 2, 2]  #  [1+1, 1+1, 1+1]\n",
    "\n",
    "\n",
    "[1, 2, 3, 4]  -->  [3, 5, 7]  #  [1+2, 2+3, 3+4]\n",
    "\n",
    "\n",
    "[1, 10, 100]  -->  [11, 110]  #  [1+10, 10+100]"
   ]
  },
  {
   "cell_type": "code",
   "execution_count": 99,
   "id": "6eb28e3a-f9e6-474c-a1bc-c2bd5927ed23",
   "metadata": {},
   "outputs": [
    {
     "name": "stdout",
     "output_type": "stream",
     "text": [
      "[3, 5, 7]\n",
      "[2, 2, 2]\n"
     ]
    }
   ],
   "source": [
    "# your code here \n",
    "list_test_1 = [1,2,3,4]\n",
    "list_test_2 = [1,1,1,1]\n",
    "\n",
    "new_list_1 = []\n",
    "new_list_2 = []\n",
    "last_index_1 = len(list_test_1) - 1\n",
    "\n",
    "for num in list_test_1:\n",
    "    next_index = list_test_1.index(num) + 1\n",
    "    if next_index <= last_index_1:\n",
    "        new_list_1.append(num + list_test_1[next_index])\n",
    "print(new_list_1)\n",
    "\n",
    "\n",
    "for i in range(1,len(list_test_2)):\n",
    "    for num in list_test_2:\n",
    "        new_num = num + list_test_2[i]\n",
    "    new_list_2.append(new_num)\n",
    "        \n",
    "        \n",
    "\n",
    "print(new_list_2)\n",
    "\n",
    "\n"
   ]
  },
  {
   "cell_type": "markdown",
   "id": "c28b4274-da70-4580-8557-fd23bf5d4d6a",
   "metadata": {},
   "source": [
    "## Exercise 3 \n",
    "\n",
    "You are given an odd-length array of integers, in which all of them are the same, except for one single number.\n",
    "\n",
    "Complete the method which accepts such an array, and returns that single different number.\n",
    "\n",
    "The input array will always be valid! (odd-length >= 3)\n",
    "\n",
    "__Example:__\n",
    "```\n",
    "[1, 1, 2] ==> 2\n",
    "[17, 17, 3, 17, 17, 17, 17] ==> 3\n",
    "```"
   ]
  },
  {
   "cell_type": "code",
   "execution_count": 82,
   "id": "9ae4dfc6-d3b2-4342-89d7-31ae5db6a6fc",
   "metadata": {},
   "outputs": [
    {
     "name": "stdout",
     "output_type": "stream",
     "text": [
      "2\n",
      "3\n"
     ]
    }
   ],
   "source": [
    "# your code here \n",
    "\n",
    "test_list_1 = [1, 1, 1, 1, 1, 1, 2] # 2\n",
    "test_list_2 = [2, 3, 2, 2, 2] # 3\n",
    "\n",
    "def numbers(lst):\n",
    "    \n",
    "    list_set = set(lst)\n",
    "    unique_list = (list(list_set))\n",
    "    list_of_numbers = []\n",
    "    for x in unique_list:\n",
    "        list_of_numbers.append(x)\n",
    "    return list_of_numbers\n",
    "\n",
    "\n",
    "def unique_number(lst):\n",
    "    for num in numbers(lst):\n",
    "        if lst.count(num) == 1:\n",
    "            print(num)\n",
    "\n",
    "unique_number(test_list_1)\n",
    "unique_number(test_list_2)"
   ]
  },
  {
   "cell_type": "code",
   "execution_count": null,
   "id": "1842dd52",
   "metadata": {},
   "outputs": [],
   "source": []
  }
 ],
 "metadata": {
  "kernelspec": {
   "display_name": "Python 3 (ipykernel)",
   "language": "python",
   "name": "python3"
  },
  "language_info": {
   "codemirror_mode": {
    "name": "ipython",
    "version": 3
   },
   "file_extension": ".py",
   "mimetype": "text/x-python",
   "name": "python",
   "nbconvert_exporter": "python",
   "pygments_lexer": "ipython3",
   "version": "3.9.13"
  }
 },
 "nbformat": 4,
 "nbformat_minor": 5
}
